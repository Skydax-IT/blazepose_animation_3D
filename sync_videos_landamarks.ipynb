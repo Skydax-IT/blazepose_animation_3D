{
 "cells": [
  {
   "cell_type": "code",
   "execution_count": null,
   "metadata": {},
   "outputs": [],
   "source": [
    "from video_utils import *\n",
    "import cv2\n",
    "from tqdm import tqdm\n",
    "import utils\n",
    "import dlib"
   ]
  },
  {
   "cell_type": "code",
   "execution_count": null,
   "metadata": {},
   "outputs": [],
   "source": [
    "# Paths of the two videos\n",
    "path = r\"C:\\Users\\PSUPP_elicata\\Documents\\Images\\Video\\Test_Antoine1_FACE.mov\"\n",
    "path2 = r\"C:\\Users\\PSUPP_elicata\\Documents\\Images\\Video\\Test_Antoine1_SIDE.mov\""
   ]
  },
  {
   "cell_type": "code",
   "execution_count": null,
   "metadata": {},
   "outputs": [],
   "source": [
    "# Read th videos \n",
    "video = VideoReader(path)\n",
    "video2 = VideoReader(path2)"
   ]
  },
  {
   "cell_type": "code",
   "execution_count": null,
   "metadata": {},
   "outputs": [],
   "source": [
    "# Function that retrieve the corners coordinates of a rectangle where the face is located\n",
    "def get_coordinates(frame):\n",
    "    detector = dlib.get_frontal_face_detector()\n",
    "    gray = cv2.cvtColor(frame, cv2.COLOR_BGR2GRAY)\n",
    "    rects = detector(gray, 1)\n",
    "    coordinates = []\n",
    "    for (i, rect) in enumerate(rects):\n",
    "        coordinates.append((rect.left(), rect.top(), rect.right(), rect.bottom()))\n",
    "    return coordinates"
   ]
  },
  {
   "cell_type": "code",
   "execution_count": null,
   "metadata": {},
   "outputs": [],
   "source": [
    "max = 10\n",
    "\n",
    "# Initialize empty lists for coordinates\n",
    "coordinates_list1 = []\n",
    "coordinates_list2 = []\n",
    "\n",
    "for i, frame in enumerate(video) :\n",
    "    frame2 = next(video2)\n",
    "    if i == max:\n",
    "        break\n",
    "    # Get coordinates of interest in each frame\n",
    "    coordinates1 = get_coordinates(frame)\n",
    "    coordinates2 = get_coordinates(frame2)\n",
    "    # Append coordinates to corresponding list\n",
    "    coordinates_list1.append(coordinates1)\n",
    "    coordinates_list2.append(coordinates2)\n",
    "    cv2.namedWindow(\"frame\", cv2.WINDOW_NORMAL)\n",
    "    cv2.namedWindow(\"frame2\", cv2.WINDOW_NORMAL)\n",
    "    cv2.imshow('frame',frame)\n",
    "    cv2.imshow('frame2',frame2)\n",
    "    cv2.waitKey(0)\n",
    "cv2.destroyAllWindows()"
   ]
  },
  {
   "cell_type": "code",
   "execution_count": null,
   "metadata": {},
   "outputs": [],
   "source": [
    "# Print the lists of coordinates for each videos\n",
    "print (\"\\nList Side (Size= \", len(coordinates_list1), \"):\\n\", coordinates_list1)\n",
    "print (\"\\nList Face (Size= \", len(coordinates_list1), \"):\\n\", coordinates_list2)"
   ]
  }
 ],
 "metadata": {
  "kernelspec": {
   "display_name": "Python 3",
   "language": "python",
   "name": "python3"
  },
  "language_info": {
   "codemirror_mode": {
    "name": "ipython",
    "version": 3
   },
   "file_extension": ".py",
   "mimetype": "text/x-python",
   "name": "python",
   "nbconvert_exporter": "python",
   "pygments_lexer": "ipython3",
   "version": "3.9.7"
  },
  "orig_nbformat": 4,
  "vscode": {
   "interpreter": {
    "hash": "9f749fd04fa493588cd5af20eedb8c1828aa354a7dd2c1732e840839b21a97af"
   }
  }
 },
 "nbformat": 4,
 "nbformat_minor": 2
}
